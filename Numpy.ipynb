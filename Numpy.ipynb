{
  "nbformat": 4,
  "nbformat_minor": 0,
  "metadata": {
    "colab": {
      "name": "Atividades para o Carnaval - numpy, sql, python, regressão linear, crawler.ipynb",
      "provenance": [],
      "collapsed_sections": [],
      "authorship_tag": "ABX9TyP/ydZnbLxcDjNXj1iENw0l",
      "include_colab_link": true
    },
    "kernelspec": {
      "name": "python3",
      "display_name": "Python 3"
    },
    "language_info": {
      "name": "python"
    }
  },
  "cells": [
    {
      "cell_type": "markdown",
      "metadata": {
        "id": "view-in-github",
        "colab_type": "text"
      },
      "source": [
        "<a href=\"https://colab.research.google.com/github/BrunoWLP/Atividades-Carnaval/blob/main/Numpy.ipynb\" target=\"_parent\"><img src=\"https://colab.research.google.com/assets/colab-badge.svg\" alt=\"Open In Colab\"/></a>"
      ]
    },
    {
      "cell_type": "markdown",
      "source": [
        "# Atividades de Carnaval 🥳"
      ],
      "metadata": {
        "id": "xyCshB_2iE6J"
      }
    },
    {
      "cell_type": "markdown",
      "source": [
        "### Concentra mas Numpy"
      ],
      "metadata": {
        "id": "FwWd9x4fiXf7"
      }
    },
    {
      "cell_type": "code",
      "execution_count": 1,
      "metadata": {
        "id": "N79T__ojh1jw"
      },
      "outputs": [],
      "source": [
        "import numpy as np"
      ]
    },
    {
      "cell_type": "code",
      "source": [
        "# Criando um vetor com os seguintes valores [1,2,3,4,5], chame-o de vetA\n",
        "\n",
        "vetA = np.array([1, 2, 3, 4, 5])\n",
        "vetA"
      ],
      "metadata": {
        "colab": {
          "base_uri": "https://localhost:8080/"
        },
        "id": "3hePyaIoiVMA",
        "outputId": "db24c74c-9e47-4b14-d773-e3c8a5efd09d"
      },
      "execution_count": 3,
      "outputs": [
        {
          "output_type": "execute_result",
          "data": {
            "text/plain": [
              "array([1, 2, 3, 4, 5])"
            ]
          },
          "metadata": {},
          "execution_count": 3
        }
      ]
    },
    {
      "cell_type": "code",
      "source": [
        "# Exiba os 3 primeiros elementos\n",
        "\n",
        "vetA[:3]"
      ],
      "metadata": {
        "colab": {
          "base_uri": "https://localhost:8080/"
        },
        "id": "5dsWXLgAisL-",
        "outputId": "00ef7271-4d45-4a8f-9a1d-988c8011692b"
      },
      "execution_count": 4,
      "outputs": [
        {
          "output_type": "execute_result",
          "data": {
            "text/plain": [
              "array([1, 2, 3])"
            ]
          },
          "metadata": {},
          "execution_count": 4
        }
      ]
    },
    {
      "cell_type": "code",
      "source": [
        "# Exiba todos os valores após o quinto elemento\n",
        "\n",
        "vetA[5:]"
      ],
      "metadata": {
        "colab": {
          "base_uri": "https://localhost:8080/"
        },
        "id": "Yte175jYizeK",
        "outputId": "68d42ae8-6ef5-4c9e-e5de-62d87763a6f3"
      },
      "execution_count": 5,
      "outputs": [
        {
          "output_type": "execute_result",
          "data": {
            "text/plain": [
              "array([], dtype=int64)"
            ]
          },
          "metadata": {},
          "execution_count": 5
        }
      ]
    },
    {
      "cell_type": "code",
      "source": [
        "# Exiba os 3 últimos elementos\n",
        "\n",
        "vetA[-3:]"
      ],
      "metadata": {
        "colab": {
          "base_uri": "https://localhost:8080/"
        },
        "id": "oS6psiAqi4pV",
        "outputId": "6657a845-e690-4f8b-fd04-93f4ebb0fe47"
      },
      "execution_count": 6,
      "outputs": [
        {
          "output_type": "execute_result",
          "data": {
            "text/plain": [
              "array([3, 4, 5])"
            ]
          },
          "metadata": {},
          "execution_count": 6
        }
      ]
    },
    {
      "cell_type": "code",
      "source": [
        "# Exiba os valores de vetA entre o 5 elemento até o penúltimo elemento\n",
        "\n",
        "print(vetA[4:-1])\n",
        "\n",
        "#Prova com outro array maior:\n",
        "vetB = np.array([1, 2, 3, 4, 5, 6, 7, 8])\n",
        "vetB[4:-1]"
      ],
      "metadata": {
        "colab": {
          "base_uri": "https://localhost:8080/"
        },
        "id": "pO4nUlGPjESv",
        "outputId": "1be9d168-3c64-44dd-bd77-50706833819c"
      },
      "execution_count": 17,
      "outputs": [
        {
          "output_type": "stream",
          "name": "stdout",
          "text": [
            "[]\n"
          ]
        },
        {
          "output_type": "execute_result",
          "data": {
            "text/plain": [
              "array([5, 6, 7])"
            ]
          },
          "metadata": {},
          "execution_count": 17
        }
      ]
    },
    {
      "cell_type": "code",
      "source": [
        "# Crie uma matriz 5x5 e exiba a matriz inteira\n",
        "\n",
        "# 1:\n",
        "a = np.arange(25).reshape(5, 5)\n",
        "print(a)\n",
        "print()\n",
        "\n",
        "# 2:\n",
        "b = np.zeros((5, 5))\n",
        "print(b)\n",
        "print()\n",
        "\n",
        "# 3:\n",
        "ary1 = np.array([1, 2, 3, 4, 5])\n",
        "ary2 = np.array([6, 7, 8, 9, 10])\n",
        "c = np.matrix([ary1, ary2, ary1, ary2, ary1])\n",
        "print(c)\n",
        "print()\n",
        "\n",
        "# 4:\n",
        "d = np.matrix('1 2 3 4 5; 6 7 8 9 10; 1 2 3 4 5; 6 7 8 9 10; 1 2 3 4 5')\n",
        "print(d)"
      ],
      "metadata": {
        "colab": {
          "base_uri": "https://localhost:8080/"
        },
        "id": "kznt1Bc-jUwc",
        "outputId": "22431719-82c7-4a8c-ea6d-67049c0adc7b"
      },
      "execution_count": 67,
      "outputs": [
        {
          "output_type": "stream",
          "name": "stdout",
          "text": [
            "[[ 0  1  2  3  4]\n",
            " [ 5  6  7  8  9]\n",
            " [10 11 12 13 14]\n",
            " [15 16 17 18 19]\n",
            " [20 21 22 23 24]]\n",
            "\n",
            "[[0. 0. 0. 0. 0.]\n",
            " [0. 0. 0. 0. 0.]\n",
            " [0. 0. 0. 0. 0.]\n",
            " [0. 0. 0. 0. 0.]\n",
            " [0. 0. 0. 0. 0.]]\n",
            "\n",
            "[[ 1  2  3  4  5]\n",
            " [ 6  7  8  9 10]\n",
            " [ 1  2  3  4  5]\n",
            " [ 6  7  8  9 10]\n",
            " [ 1  2  3  4  5]]\n",
            "\n",
            "[[ 1  2  3  4  5]\n",
            " [ 6  7  8  9 10]\n",
            " [ 1  2  3  4  5]\n",
            " [ 6  7  8  9 10]\n",
            " [ 1  2  3  4  5]]\n"
          ]
        }
      ]
    },
    {
      "cell_type": "code",
      "source": [
        "# Exiba todos os elementos da coluna 3\n",
        "\n",
        "a[:, 2]"
      ],
      "metadata": {
        "colab": {
          "base_uri": "https://localhost:8080/"
        },
        "id": "CrdHWWo0ji6I",
        "outputId": "fe0aa227-3f22-4aea-dd05-c83d7299c1eb"
      },
      "execution_count": 46,
      "outputs": [
        {
          "output_type": "execute_result",
          "data": {
            "text/plain": [
              "array([ 2,  7, 12, 17, 22])"
            ]
          },
          "metadata": {},
          "execution_count": 46
        }
      ]
    },
    {
      "cell_type": "code",
      "source": [
        "# Exiba todos os elementos da linha 2\n",
        "\n",
        "a[1, :]"
      ],
      "metadata": {
        "colab": {
          "base_uri": "https://localhost:8080/"
        },
        "id": "Rg61LLRAo8cF",
        "outputId": "95176cc3-0cfd-4b46-b26a-4445eca9c62d"
      },
      "execution_count": 47,
      "outputs": [
        {
          "output_type": "execute_result",
          "data": {
            "text/plain": [
              "array([5, 6, 7, 8, 9])"
            ]
          },
          "metadata": {},
          "execution_count": 47
        }
      ]
    },
    {
      "cell_type": "code",
      "source": [
        "# Exiba todos os elementos das 2 primeiras colunas\n",
        "\n",
        "a[: , :2]"
      ],
      "metadata": {
        "colab": {
          "base_uri": "https://localhost:8080/"
        },
        "id": "w1Te37N3ql8q",
        "outputId": "a71690bb-8542-40ad-b25b-75c6f5fad39e"
      },
      "execution_count": 48,
      "outputs": [
        {
          "output_type": "execute_result",
          "data": {
            "text/plain": [
              "array([[ 0,  1],\n",
              "       [ 5,  6],\n",
              "       [10, 11],\n",
              "       [15, 16],\n",
              "       [20, 21]])"
            ]
          },
          "metadata": {},
          "execution_count": 48
        }
      ]
    },
    {
      "cell_type": "code",
      "source": [
        "# Exiba todos os elementos das 2 primeiras linhas:\n",
        "\n",
        "a[:2, :]"
      ],
      "metadata": {
        "colab": {
          "base_uri": "https://localhost:8080/"
        },
        "id": "sCxM-U3QqvaJ",
        "outputId": "1c825f3f-f026-4439-ee90-0ff7340e7193"
      },
      "execution_count": 49,
      "outputs": [
        {
          "output_type": "execute_result",
          "data": {
            "text/plain": [
              "array([[0, 1, 2, 3, 4],\n",
              "       [5, 6, 7, 8, 9]])"
            ]
          },
          "metadata": {},
          "execution_count": 49
        }
      ]
    },
    {
      "cell_type": "code",
      "source": [
        "# Exiba Apenas os elementos das 2 últimas linhas e das 4 últimas colunas\n",
        "\n",
        "a[-2:, :]"
      ],
      "metadata": {
        "colab": {
          "base_uri": "https://localhost:8080/"
        },
        "id": "_YHfAOZrq6Bh",
        "outputId": "10d3cf3d-7de4-487c-9ee3-7fcc65f19e69"
      },
      "execution_count": 51,
      "outputs": [
        {
          "output_type": "execute_result",
          "data": {
            "text/plain": [
              "array([[15, 16, 17, 18, 19],\n",
              "       [20, 21, 22, 23, 24]])"
            ]
          },
          "metadata": {},
          "execution_count": 51
        }
      ]
    },
    {
      "cell_type": "code",
      "source": [
        "# Crie uma função que receba dois vetores e realize a soma de seus valores\n",
        "\n",
        "def soma(v1, v2):\n",
        "  return v1 + v2\n",
        "\n"
      ],
      "metadata": {
        "id": "d96oaeysrDWL"
      },
      "execution_count": 54,
      "outputs": []
    },
    {
      "cell_type": "code",
      "source": [
        "print(a)\n",
        "print('-'*20)\n",
        "print(c)"
      ],
      "metadata": {
        "colab": {
          "base_uri": "https://localhost:8080/"
        },
        "id": "Tumh8O9Lr7vY",
        "outputId": "e119802f-6d36-4e03-96f3-b5dbe59fa099"
      },
      "execution_count": 68,
      "outputs": [
        {
          "output_type": "stream",
          "name": "stdout",
          "text": [
            "[[ 0  1  2  3  4]\n",
            " [ 5  6  7  8  9]\n",
            " [10 11 12 13 14]\n",
            " [15 16 17 18 19]\n",
            " [20 21 22 23 24]]\n",
            "--------------------\n",
            "[[ 1  2  3  4  5]\n",
            " [ 6  7  8  9 10]\n",
            " [ 1  2  3  4  5]\n",
            " [ 6  7  8  9 10]\n",
            " [ 1  2  3  4  5]]\n"
          ]
        }
      ]
    },
    {
      "cell_type": "code",
      "source": [
        "soma(a, c)"
      ],
      "metadata": {
        "colab": {
          "base_uri": "https://localhost:8080/"
        },
        "id": "R3Yk--amryJm",
        "outputId": "288f10aa-d79d-421a-ff37-991f8bb380b4"
      },
      "execution_count": 69,
      "outputs": [
        {
          "output_type": "execute_result",
          "data": {
            "text/plain": [
              "matrix([[ 1,  3,  5,  7,  9],\n",
              "        [11, 13, 15, 17, 19],\n",
              "        [11, 13, 15, 17, 19],\n",
              "        [21, 23, 25, 27, 29],\n",
              "        [21, 23, 25, 27, 29]])"
            ]
          },
          "metadata": {},
          "execution_count": 69
        }
      ]
    },
    {
      "cell_type": "code",
      "source": [
        "# Generalize a função acima para que ela receba uma string representando a operação a ser executada: '+' ou '-'\n",
        "\n",
        "def operacao(v1, v2, operacao):\n",
        "  '''\n",
        "  param v1/v2: vetores de mesmo tamanho.\n",
        "  param operacao: 'soma' para somar os vetores; 'sub' para subtraí-los.\n",
        "  '''\n",
        "  if operacao.lower() == 'soma':\n",
        "    return v1 + v2\n",
        "  elif operacao.lower() == 'sub':\n",
        "    return v1 - v2\n",
        "  return print('Insira a operação correta: SOMA ou SUB')\n",
        "\n",
        "    "
      ],
      "metadata": {
        "id": "Z2uLj1JSr2Nl"
      },
      "execution_count": 82,
      "outputs": []
    },
    {
      "cell_type": "code",
      "source": [
        "help(operacao)"
      ],
      "metadata": {
        "colab": {
          "base_uri": "https://localhost:8080/"
        },
        "id": "6xvgNIM_tZRw",
        "outputId": "3a845da7-620f-4fcd-8adb-50678e86883b"
      },
      "execution_count": 77,
      "outputs": [
        {
          "output_type": "stream",
          "name": "stdout",
          "text": [
            "Help on function operacao in module __main__:\n",
            "\n",
            "operacao(v1, v2, operacao)\n",
            "    param v1/v2: vetores de mesmo tamanho.\n",
            "    param operacao: 'soma' para somar os vetores; 'sub' para subtrair\n",
            "\n"
          ]
        }
      ]
    },
    {
      "cell_type": "code",
      "source": [
        "operacao(a, c, 'sobe')"
      ],
      "metadata": {
        "colab": {
          "base_uri": "https://localhost:8080/"
        },
        "id": "88lqaVPvtbDx",
        "outputId": "c92e3209-41db-4673-975a-bf90a83e76fd"
      },
      "execution_count": 84,
      "outputs": [
        {
          "output_type": "stream",
          "name": "stdout",
          "text": [
            "Insira a operação correta: SOMA ou SUB\n"
          ]
        }
      ]
    },
    {
      "cell_type": "code",
      "source": [
        "print(operacao(a, c, 'sub'))\n",
        "print()\n",
        "print(operacao(a, c, 'soma'))"
      ],
      "metadata": {
        "colab": {
          "base_uri": "https://localhost:8080/"
        },
        "id": "IMqiZUvvtfIk",
        "outputId": "16be00c9-c5c1-4cea-f624-952586cf4b83"
      },
      "execution_count": 85,
      "outputs": [
        {
          "output_type": "stream",
          "name": "stdout",
          "text": [
            "[[-1 -1 -1 -1 -1]\n",
            " [-1 -1 -1 -1 -1]\n",
            " [ 9  9  9  9  9]\n",
            " [ 9  9  9  9  9]\n",
            " [19 19 19 19 19]]\n",
            "\n",
            "[[ 1  3  5  7  9]\n",
            " [11 13 15 17 19]\n",
            " [11 13 15 17 19]\n",
            " [21 23 25 27 29]\n",
            " [21 23 25 27 29]]\n"
          ]
        }
      ]
    },
    {
      "cell_type": "markdown",
      "source": [
        "\n",
        "\n",
        "Calcule apenas a média das colunas"
      ],
      "metadata": {
        "id": "MHmKj_dmv0pz"
      }
    },
    {
      "cell_type": "code",
      "source": [
        "# Calcular a média dos valores de uma matriz\n",
        "\n",
        "print(a)\n",
        "print('Média: ', a.mean())"
      ],
      "metadata": {
        "colab": {
          "base_uri": "https://localhost:8080/"
        },
        "id": "RgrtvQs9vNLR",
        "outputId": "ccb65b4c-5918-4819-df0f-74f84c4a7dc0"
      },
      "execution_count": 87,
      "outputs": [
        {
          "output_type": "stream",
          "name": "stdout",
          "text": [
            "[[ 0  1  2  3  4]\n",
            " [ 5  6  7  8  9]\n",
            " [10 11 12 13 14]\n",
            " [15 16 17 18 19]\n",
            " [20 21 22 23 24]]\n",
            "Média:  12.0\n"
          ]
        }
      ]
    },
    {
      "cell_type": "code",
      "source": [
        "# Calcule apenas a média das linhas\n",
        "\n",
        "print(a.mean(axis=1))\n",
        "print(np.average(a, axis=1))\n"
      ],
      "metadata": {
        "colab": {
          "base_uri": "https://localhost:8080/"
        },
        "id": "h79tnqvLv5UH",
        "outputId": "ef73e862-2e7c-41b4-f065-4639dff094d7"
      },
      "execution_count": 114,
      "outputs": [
        {
          "output_type": "stream",
          "name": "stdout",
          "text": [
            "[ 2.  7. 12. 17. 22.]\n",
            "[ 2.  7. 12. 17. 22.]\n"
          ]
        }
      ]
    },
    {
      "cell_type": "code",
      "source": [
        "# Calcule apenas a média das colunas\n",
        "\n",
        "print(a.mean(axis=0))\n",
        "print(np.average(a, axis=0))"
      ],
      "metadata": {
        "colab": {
          "base_uri": "https://localhost:8080/"
        },
        "id": "Hg245dVFwXBp",
        "outputId": "2c5eb860-04bd-44c6-a319-0be20c64b656"
      },
      "execution_count": 115,
      "outputs": [
        {
          "output_type": "stream",
          "name": "stdout",
          "text": [
            "[10. 11. 12. 13. 14.]\n",
            "[10. 11. 12. 13. 14.]\n"
          ]
        }
      ]
    }
  ]
}